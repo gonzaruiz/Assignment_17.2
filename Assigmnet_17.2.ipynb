{
 "cells": [
  {
   "cell_type": "code",
   "execution_count": null,
   "metadata": {},
   "outputs": [],
   "source": [
    "1 A, 1 B, 1 C, 1 D, 1 E\n",
    "\n",
    "\n",
    "--------\n",
    "\n",
    "P(5 times get D) = p(D) * p(D) * p(D) * p(D) * P(D)\n",
    "                 = 1/5 * 1/5 * 1/5 * 1/5 * 1/5 = 1/3125 = 0,032%\n",
    "    \n",
    "    \n",
    "                            "
   ]
  }
 ],
 "metadata": {
  "kernelspec": {
   "display_name": "Python 3",
   "language": "python",
   "name": "python3"
  },
  "language_info": {
   "codemirror_mode": {
    "name": "ipython",
    "version": 3
   },
   "file_extension": ".py",
   "mimetype": "text/x-python",
   "name": "python",
   "nbconvert_exporter": "python",
   "pygments_lexer": "ipython3",
   "version": "3.6.4"
  }
 },
 "nbformat": 4,
 "nbformat_minor": 2
}
